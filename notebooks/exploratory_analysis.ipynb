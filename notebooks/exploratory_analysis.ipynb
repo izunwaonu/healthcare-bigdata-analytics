{
 "cells": [
  {
   "cell_type": "code",
   "execution_count": 1,
   "id": "e104c4ad",
   "metadata": {},
   "outputs": [],
   "source": [
    "# Import libraries for data handling and visualization\n",
    "import pandas as pd\n",
    "import matplotlib.pyplot as plt\n",
    "import seaborn as sns\n",
    "\n",
    "# Clean, nice plots\n",
    "sns.set(style='whitegrid')\n",
    "%matplotlib inline\n"
   ]
  },
  {
   "cell_type": "code",
   "execution_count": 2,
   "id": "9c105341",
   "metadata": {},
   "outputs": [],
   "source": [
    "# Load cleaned datasets from the processed folder\n",
    "patients = pd.read_csv('../data/processed/patients_clean.csv')\n",
    "subscribers = pd.read_csv('../data/processed/subscribers_clean.csv')\n",
    "claims = pd.read_csv('../data/processed/claims_clean.csv')\n",
    "diseases = pd.read_csv('../data/processed/diseases_clean.csv')\n",
    "groups = pd.read_csv('../data/processed/groups_clean.csv')\n",
    "subgroups = pd.read_csv('../data/processed/subgroups_clean.csv')\n"
   ]
  },
  {
   "cell_type": "code",
   "execution_count": 3,
   "id": "4637754e",
   "metadata": {},
   "outputs": [
    {
     "name": "stdout",
     "output_type": "stream",
     "text": [
      "Patients: 70 rows × 8 columns\n",
      "Subscribers: 100 rows × 14 columns\n",
      "Claims: 70 rows × 8 columns\n",
      "Diseases: 59 rows × 3 columns\n",
      "Groups: 57 rows × 8 columns\n",
      "Subgroups: 9 rows × 4 columns\n"
     ]
    }
   ],
   "source": [
    "# Show number of rows and columns in each dataset\n",
    "datasets = {\n",
    "    \"Patients\": patients,\n",
    "    \"Subscribers\": subscribers,\n",
    "    \"Claims\": claims,\n",
    "    \"Diseases\": diseases,\n",
    "    \"Groups\": groups,\n",
    "    \"Subgroups\": subgroups\n",
    "}\n",
    "\n",
    "for name, df in datasets.items():\n",
    "    print(f\"{name}: {df.shape[0]} rows × {df.shape[1]} columns\")\n"
   ]
  },
  {
   "cell_type": "code",
   "execution_count": 4,
   "id": "ac9acb85",
   "metadata": {},
   "outputs": [
    {
     "data": {
      "text/html": [
       "<div>\n",
       "<style scoped>\n",
       "    .dataframe tbody tr th:only-of-type {\n",
       "        vertical-align: middle;\n",
       "    }\n",
       "\n",
       "    .dataframe tbody tr th {\n",
       "        vertical-align: top;\n",
       "    }\n",
       "\n",
       "    .dataframe thead th {\n",
       "        text-align: right;\n",
       "    }\n",
       "</style>\n",
       "<table border=\"1\" class=\"dataframe\">\n",
       "  <thead>\n",
       "    <tr style=\"text-align: right;\">\n",
       "      <th></th>\n",
       "      <th>Patient_id</th>\n",
       "      <th>Patient_name</th>\n",
       "      <th>patient_gender</th>\n",
       "      <th>patient_birth_date</th>\n",
       "      <th>patient_phone</th>\n",
       "      <th>disease_name</th>\n",
       "      <th>city</th>\n",
       "      <th>hospital_id</th>\n",
       "    </tr>\n",
       "  </thead>\n",
       "  <tbody>\n",
       "    <tr>\n",
       "      <th>0</th>\n",
       "      <td>187158</td>\n",
       "      <td>Harbir</td>\n",
       "      <td>Female</td>\n",
       "      <td>1924-06-30</td>\n",
       "      <td>+91 0112009318</td>\n",
       "      <td>Galactosemia</td>\n",
       "      <td>Rourkela</td>\n",
       "      <td>H1001</td>\n",
       "    </tr>\n",
       "    <tr>\n",
       "      <th>1</th>\n",
       "      <td>112766</td>\n",
       "      <td>Brahmdev</td>\n",
       "      <td>Female</td>\n",
       "      <td>1948-12-20</td>\n",
       "      <td>+91 1727749552</td>\n",
       "      <td>Bladder cancer</td>\n",
       "      <td>Tiruvottiyur</td>\n",
       "      <td>H1016</td>\n",
       "    </tr>\n",
       "    <tr>\n",
       "      <th>2</th>\n",
       "      <td>199252</td>\n",
       "      <td>Ujjawal</td>\n",
       "      <td>Male</td>\n",
       "      <td>1980-04-16</td>\n",
       "      <td>+91 8547451606</td>\n",
       "      <td>Kidney cancer</td>\n",
       "      <td>Berhampur</td>\n",
       "      <td>H1009</td>\n",
       "    </tr>\n",
       "    <tr>\n",
       "      <th>3</th>\n",
       "      <td>133424</td>\n",
       "      <td>Ballari</td>\n",
       "      <td>Female</td>\n",
       "      <td>1969-09-25</td>\n",
       "      <td>+91 0106026841</td>\n",
       "      <td>Suicide</td>\n",
       "      <td>Bihar Sharif</td>\n",
       "      <td>H1017</td>\n",
       "    </tr>\n",
       "    <tr>\n",
       "      <th>4</th>\n",
       "      <td>172579</td>\n",
       "      <td>Devnath</td>\n",
       "      <td>Female</td>\n",
       "      <td>1946-05-01</td>\n",
       "      <td>+91 1868774631</td>\n",
       "      <td>Food allergy</td>\n",
       "      <td>Bidhannagar</td>\n",
       "      <td>H1019</td>\n",
       "    </tr>\n",
       "  </tbody>\n",
       "</table>\n",
       "</div>"
      ],
      "text/plain": [
       "   Patient_id Patient_name patient_gender patient_birth_date   patient_phone  \\\n",
       "0      187158       Harbir         Female         1924-06-30  +91 0112009318   \n",
       "1      112766     Brahmdev         Female         1948-12-20  +91 1727749552   \n",
       "2      199252      Ujjawal           Male         1980-04-16  +91 8547451606   \n",
       "3      133424      Ballari         Female         1969-09-25  +91 0106026841   \n",
       "4      172579      Devnath         Female         1946-05-01  +91 1868774631   \n",
       "\n",
       "     disease_name          city hospital_id  \n",
       "0    Galactosemia      Rourkela       H1001  \n",
       "1  Bladder cancer  Tiruvottiyur       H1016  \n",
       "2   Kidney cancer     Berhampur       H1009  \n",
       "3         Suicide  Bihar Sharif       H1017  \n",
       "4    Food allergy   Bidhannagar       H1019  "
      ]
     },
     "execution_count": 4,
     "metadata": {},
     "output_type": "execute_result"
    }
   ],
   "source": [
    "# Show the first few rows of patient data\n",
    "patients.head()\n"
   ]
  },
  {
   "cell_type": "code",
   "execution_count": 5,
   "id": "5d76ac72",
   "metadata": {},
   "outputs": [
    {
     "data": {
      "image/png": "[encoded data removed]",
      "text/plain": [
       "<Figure size 640x480 with 1 Axes>"
      ]
     },
     "metadata": {},
     "output_type": "display_data"
    }
   ],
   "source": [
    "if 'claim_amount' in claims.columns:\n",
    "    sns.histplot(claims['claim_amount'], bins=40, kde=True)\n",
    "    plt.title(\"Distribution of Claim Amounts\")\n",
    "    plt.xlabel(\"Claim Amount\")\n",
    "    plt.ylabel(\"Frequency\")\n",
    "    plt.show()\n"
   ]
  },
  {
   "cell_type": "code",
   "execution_count": null,
   "id": "106820bb",
   "metadata": {},
   "outputs": [],
   "source": []
  },
  {
   "cell_type": "code",
   "execution_count": 7,
   "id": "80a56dcf",
   "metadata": {},
   "outputs": [],
   "source": [
    "# Top 10 diseases\n",
    "if 'disease_name' in diseases.columns:\n",
    "    top_diseases = diseases['disease_name'].value_counts().head(10)\n",
    "    sns.barplot(x=top_diseases.values, y=top_diseases.index)\n",
    "    plt.title(\"Top 10 Reported Diseases\")\n",
    "    plt.xlabel(\"Frequency\")\n",
    "    plt.ylabel(\"Disease\")\n",
    "    plt.show()\n"
   ]
  },
  {
   "cell_type": "code",
   "execution_count": 8,
   "id": "53ae2100",
   "metadata": {},
   "outputs": [],
   "source": [
    "# Top 10 hospitals by number of claims\n",
    "if 'hospital_id' in claims.columns:\n",
    "    top_hospitals = claims['hospital_id'].value_counts().head(10)\n",
    "    sns.barplot(x=top_hospitals.values, y=top_hospitals.index)\n",
    "    plt.title(\"Top 10 Hospitals by Number of Claims\")\n",
    "    plt.xlabel(\"Number of Claims\")\n",
    "    plt.ylabel(\"Hospital ID\")\n",
    "    plt.show()\n"
   ]
  },
  {
   "cell_type": "code",
   "execution_count": 10,
   "id": "214258fd",
   "metadata": {},
   "outputs": [],
   "source": [
    "# Check if there's a subscriber ID in claims\n",
    "if 'subscriber_id' in claims.columns:\n",
    "    top_subscribers = claims['subscriber_id'].value_counts().head(10)\n",
    "    sns.barplot(x=top_subscribers.values, y=top_subscribers.index)\n",
    "    plt.title(\"Top 10 Subscribers by Number of Claims\")\n",
    "    plt.xlabel(\"Number of Claims\")\n",
    "    plt.ylabel(\"Subscriber ID\")\n",
    "    plt.show()\n"
   ]
  },
  {
   "cell_type": "code",
   "execution_count": 11,
   "id": "448906e3",
   "metadata": {},
   "outputs": [],
   "source": [
    "# Make sure claim_amount and hospital_id exist\n",
    "if 'hospital_id' in claims.columns and 'claim_amount' in claims.columns:\n",
    "    avg_claims = claims.groupby('hospital_id')['claim_amount'].mean().sort_values(ascending=False).head(10)\n",
    "    sns.barplot(x=avg_claims.values, y=avg_claims.index)\n",
    "    plt.title(\"Top 10 Hospitals by Average Claim Amount\")\n",
    "    plt.xlabel(\"Average Claim Amount\")\n",
    "    plt.ylabel(\"Hospital ID\")\n",
    "    plt.show()\n"
   ]
  },
  {
   "cell_type": "code",
   "execution_count": null,
   "id": "e5f3ee85",
   "metadata": {},
   "outputs": [],
   "source": [
    "# Top diseases by frequency\n",
    "if 'disease_name' in diseases.columns:\n",
    "    top_diseases = diseases['disease_name'].value_counts().head(10)\n",
    "    sns.barplot(x=top_diseases.values, y=top_diseases.index)\n",
    "    plt.title(\"Top 10 Diseases Reported\")\n",
    "    plt.xlabel(\"Frequency\")\n",
    "    plt.ylabel(\"Disease Name\")\n",
    "    plt.show()\n"
   ]
  },
  {
   "cell_type": "code",
   "execution_count": null,
   "id": "39da213f",
   "metadata": {},
   "outputs": [],
   "source": [
    "# Merge patients and claims by patient ID (adjust if different column names)\n",
    "if 'patient_id' in patients.columns and 'patient_id' in claims.columns:\n",
    "    merged = pd.merge(claims, patients, on='patient_id', how='inner')\n",
    "    if 'age' in merged.columns and 'claim_amount' in merged.columns:\n",
    "        sns.scatterplot(data=merged, x='age', y='claim_amount')\n",
    "        plt.title(\"Claim Amount vs Age\")\n",
    "        plt.xlabel(\"Age\")\n",
    "        plt.ylabel(\"Claim Amount\")\n",
    "        plt.show()\n"
   ]
  }
 ],
 "metadata": {
  "kernelspec": {
   "display_name": "Python 3",
   "language": "python",
   "name": "python3"
  },
  "language_info": {
   "codemirror_mode": {
    "name": "ipython",
    "version": 3
   },
   "file_extension": ".py",
   "mimetype": "text/x-python",
   "name": "python",
   "nbconvert_exporter": "python",
   "pygments_lexer": "ipython3",
   "version": "3.13.0"
  }
 },
 "nbformat": 4,
 "nbformat_minor": 5
}
